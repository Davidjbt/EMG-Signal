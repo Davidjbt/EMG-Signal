{
 "cells": [
  {
   "cell_type": "code",
   "execution_count": 4,
   "id": "initial_id",
   "metadata": {
    "collapsed": true,
    "ExecuteTime": {
     "end_time": "2024-02-28T21:29:25.620614700Z",
     "start_time": "2024-02-28T21:29:25.125256800Z"
    }
   },
   "outputs": [],
   "source": [
    "import os\n",
    "\n",
    "import matplotlib.pyplot as plt\n",
    "import pandas as pd\n",
    "import numpy as np\n",
    "from sklearn import svm\n",
    "from sklearn.model_selection import train_test_split\n",
    "from sklearn.metrics import accuracy_score\n",
    "from sklearn.preprocessing import LabelEncoder\n",
    "\n",
    "x = 'a'\n",
    "\n",
    "features = ['RMS', 'MAV', 'SSI', 'IEMG']\n",
    "\n",
    "def extract_features_from_entry(values):\n",
    "    return np.sqrt(np.mean(values**2)), np.mean(abs(values)), np.sum(values**2), np.sum(abs(values))\n",
    "\n",
    "def get_feature_matrix():\n",
    "    rows = []\n",
    "    columns = []\n",
    "    are_columns_obtained = False\n",
    "    \n",
    "    for filename in os.listdir('./entries'):\n",
    "        values = pd.read_csv(f'./entries/{filename}').iloc[:,1:]\n",
    "        \n",
    "    \n",
    "        label = int(filename[0])\n",
    "        row = []\n",
    "        for i in range(values.shape[1]):\n",
    "            row += list(extract_features_from_entry(values.iloc[i])) \n",
    "        \n",
    "        \n",
    "        rows.append(row + [label])\n",
    "        \n",
    "        if not are_columns_obtained:\n",
    "            are_columns_obtained = True\n",
    "            num_of_sensors = values.shape[1]\n",
    "            \n",
    "            columns = [feature + '_' + str(sensor + 1) for feature in features for sensor in range(num_of_sensors)]    \n",
    "            columns += ['Hand Gesture']\n",
    "\n",
    "    return pd.DataFrame(rows, columns=columns)\n",
    "\n",
    "feature_matrix = get_feature_matrix()"
   ]
  },
  {
   "cell_type": "code",
   "execution_count": 23,
   "outputs": [
    {
     "data": {
      "text/plain": "   RMS_1  MAV_1  SSI_1  IEMG_1  Hand Gesture\n0   72.0   72.0   5184      72             1\n1   60.0   60.0   3600      60             2",
      "text/html": "<div>\n<style scoped>\n    .dataframe tbody tr th:only-of-type {\n        vertical-align: middle;\n    }\n\n    .dataframe tbody tr th {\n        vertical-align: top;\n    }\n\n    .dataframe thead th {\n        text-align: right;\n    }\n</style>\n<table border=\"1\" class=\"dataframe\">\n  <thead>\n    <tr style=\"text-align: right;\">\n      <th></th>\n      <th>RMS_1</th>\n      <th>MAV_1</th>\n      <th>SSI_1</th>\n      <th>IEMG_1</th>\n      <th>Hand Gesture</th>\n    </tr>\n  </thead>\n  <tbody>\n    <tr>\n      <th>0</th>\n      <td>72.0</td>\n      <td>72.0</td>\n      <td>5184</td>\n      <td>72</td>\n      <td>1</td>\n    </tr>\n    <tr>\n      <th>1</th>\n      <td>60.0</td>\n      <td>60.0</td>\n      <td>3600</td>\n      <td>60</td>\n      <td>2</td>\n    </tr>\n  </tbody>\n</table>\n</div>"
     },
     "execution_count": 23,
     "metadata": {},
     "output_type": "execute_result"
    }
   ],
   "source": [
    "feature_matrix"
   ],
   "metadata": {
    "collapsed": false,
    "ExecuteTime": {
     "end_time": "2024-02-28T18:24:34.267879Z",
     "start_time": "2024-02-28T18:24:34.242052300Z"
    }
   },
   "id": "79a06891c5dcafe7"
  },
  {
   "cell_type": "code",
   "execution_count": 24,
   "outputs": [
    {
     "data": {
      "text/plain": "   RMS_1  MAV_1  SSI_1  IEMG_1  Hand Gesture\n0   72.0   72.0   5184      72             1\n1   60.0   60.0   3600      60             2",
      "text/html": "<div>\n<style scoped>\n    .dataframe tbody tr th:only-of-type {\n        vertical-align: middle;\n    }\n\n    .dataframe tbody tr th {\n        vertical-align: top;\n    }\n\n    .dataframe thead th {\n        text-align: right;\n    }\n</style>\n<table border=\"1\" class=\"dataframe\">\n  <thead>\n    <tr style=\"text-align: right;\">\n      <th></th>\n      <th>RMS_1</th>\n      <th>MAV_1</th>\n      <th>SSI_1</th>\n      <th>IEMG_1</th>\n      <th>Hand Gesture</th>\n    </tr>\n  </thead>\n  <tbody>\n    <tr>\n      <th>0</th>\n      <td>72.0</td>\n      <td>72.0</td>\n      <td>5184</td>\n      <td>72</td>\n      <td>1</td>\n    </tr>\n    <tr>\n      <th>1</th>\n      <td>60.0</td>\n      <td>60.0</td>\n      <td>3600</td>\n      <td>60</td>\n      <td>2</td>\n    </tr>\n  </tbody>\n</table>\n</div>"
     },
     "execution_count": 24,
     "metadata": {},
     "output_type": "execute_result"
    }
   ],
   "source": [
    "feature_matrix"
   ],
   "metadata": {
    "collapsed": false,
    "ExecuteTime": {
     "end_time": "2024-02-28T18:24:36.467549500Z",
     "start_time": "2024-02-28T18:24:36.450166900Z"
    }
   },
   "id": "5728fe87e392ec4b"
  },
  {
   "cell_type": "code",
   "execution_count": 20,
   "outputs": [
    {
     "name": "stdout",
     "output_type": "stream",
     "text": [
      "0\n"
     ]
    },
    {
     "data": {
      "text/plain": "[<matplotlib.lines.Line2D at 0x144e6e47160>]"
     },
     "execution_count": 20,
     "metadata": {},
     "output_type": "execute_result"
    },
    {
     "data": {
      "text/plain": "<Figure size 640x480 with 1 Axes>",
      "image/png": "[encoded data removed]"
     },
     "metadata": {},
     "output_type": "display_data"
    }
   ],
   "source": [
    "values = pd.read_csv('./entries/2_emg_1.csv').iloc[:,1:].values\n",
    "wl = np.sum(np.abs(np.diff(values)))\n",
    "print(wl)\n",
    "plt.plot(values)"
   ],
   "metadata": {
    "collapsed": false,
    "ExecuteTime": {
     "end_time": "2024-02-28T22:00:46.052985300Z",
     "start_time": "2024-02-28T22:00:45.949969600Z"
    }
   },
   "id": "f347a448708248fc"
  }
 ],
 "metadata": {
  "kernelspec": {
   "display_name": "Python 3",
   "language": "python",
   "name": "python3"
  },
  "language_info": {
   "codemirror_mode": {
    "name": "ipython",
    "version": 2
   },
   "file_extension": ".py",
   "mimetype": "text/x-python",
   "name": "python",
   "nbconvert_exporter": "python",
   "pygments_lexer": "ipython2",
   "version": "2.7.6"
  }
 },
 "nbformat": 4,
 "nbformat_minor": 5
}
